{
  "nbformat": 4,
  "nbformat_minor": 0,
  "metadata": {
    "colab": {
      "provenance": []
    },
    "kernelspec": {
      "name": "python3",
      "display_name": "Python 3"
    },
    "language_info": {
      "name": "python"
    }
  },
  "cells": [
    {
      "cell_type": "markdown",
      "source": [
        "# **Python Basics**\n",
        "\n",
        "**Question 1.** What is Python, and why is it popular?\n",
        "\n",
        "Python is a high-level, interpreted programming language known for its simple, readable syntax and wide range of applications, including web development, data science, automation, artificial intelligence, and more. Its popularity stems from its ease of learning, extensive standard libraries, large and supportive community, and strong integration capabilities with other technologies. These features make it a go-to language for both beginners and professionals across various industries.\n",
        "\n",
        "**Question 2.** What is an interpreter in Python?\n",
        "\n",
        "An interpreter in Python is a program that reads and executes Python code line by line, converting it into machine code that the computer can understand at runtime. Unlike compiled languages (like C or Java), where the code is first translated into a separate executable file, Python's interpreter runs the code directly, making development faster and more flexible, especially for testing and debugging.\n",
        "\n",
        "**Question 3.** What are pre-defined keywords in Python?\n",
        "\n",
        "Pre-defined keywords in Python are reserved words that have special meaning in the language and are used to define the syntax and structure of Python programs. You cannot use them as variable names, function names, or identifiers. Examples include if, else, while, for, def, class, return, import, and try. These keywords are built into Python and help control the flow, logic, and structure of the code.\n",
        "\n",
        "**Question 4.** Can keywords be used as variable names?\n",
        "\n",
        "No, keywords cannot be used as variable names in Python. They are reserved by the language for specific purposes (like defining loops, conditions, functions, etc.), and using them as variable names will result in a syntax error.\n",
        "\n",
        "**Question 5.** What is mutability in Python?\n",
        "\n",
        "Mutability in Python refers to whether an object’s value can be changed after it is created.\n",
        "\n",
        "- Mutable objects can be changed in place. Examples: list, dict, set.\n",
        "\n",
        "- Immutable objects cannot be changed once created. Examples: int, float, str, tuple.\n",
        "\n",
        "For instance, if you modify a list element, the list itself changes (mutable), but if you try to change a string’s character, a new string is created instead (immutable). Understanding mutability is important for writing efficient and bug-free code.\n",
        "\n",
        "**Question 6.** Why are lists mutable, but tuples are immutable?\n",
        "\n",
        "In Python, lists are mutable and tuples are immutable by design, based on their intended use and internal structure:\n",
        "\n",
        "- Lists are meant to store a collection of items that may need to change — you can add, remove, or update elements. To support this, Python implements lists with flexible memory management that allows modifications.\n",
        "\n",
        "- Tuples, on the other hand, are designed to represent fixed collections of items — like records or coordinates — that shouldn't change. Their immutability makes them faster, more memory-efficient, and suitable for use as keys in dictionaries or elements in sets.\n",
        "\n",
        "**Question 7.** What is the difference between “==” and “is” operators in Python?\n",
        "\n",
        "In Python, == and is are both comparison operators, but they are used for different purposes:\n",
        "\n",
        "- == (Equality operator): Checks whether two values are equal. It compares the contents or values of the objects.\n",
        "- is (Identity operator): Checks whether two variables refer to the same object in memory.\n",
        "\n",
        "**Question 8.** What are logical operators in Python?\n",
        "\n",
        "Logical operators in Python are used to combine or manipulate Boolean values and expressions, returning either True or False. The three main logical operators are and, or, and not. The and operator returns True only if both conditions are true, while or returns True if at least one condition is true. The not operator is used to reverse the Boolean value of an expression. These operators are commonly used in decision-making and control flow statements such as if, while, and for.\n",
        "\n",
        "**Question 9.** What is type casting in Python?\n",
        "\n",
        "Type casting in Python is the process of converting a value from one data type to another, such as converting a string to an integer or a float to a string. This is done using built-in functions like int(), float(), str(), and bool(). Type casting is useful when you need to perform operations that require specific data types or when you want to ensure data compatibility in your program.\n",
        "\n",
        "**Question 10.** What is the difference between implicit and explicit type casting?\n",
        "\n",
        "Implicit type casting (or coercion) happens automatically when Python converts one data type to another without the programmer’s intervention, usually to avoid data loss during operations—for example, adding an integer and a float results in the integer being converted to a float automatically.\n",
        "\n",
        "Explicit type casting, on the other hand, is when the programmer manually converts a value from one type to another using functions like int(), str(), or float(). This gives more control over the conversion process.\n",
        "\n",
        "**Question 11.** What is the purpose of conditional statements in Python?\n",
        "\n",
        "The purpose of conditional statements in Python is to allow the program to make decisions and execute different blocks of code based on whether certain conditions are true or false. This enables the creation of dynamic and flexible programs that can respond differently to varying inputs or situations using statements like if, elif, and else.\n",
        "\n",
        "**Question 12.** How does the elif statement work?\n",
        "\n",
        "The elif statement in Python stands for \"else if\" and is used to check multiple conditions sequentially after an initial if statement. When the program reaches an elif, it evaluates its condition only if all previous if and elif conditions were false. If the elif condition is true, its associated block of code runs, and the rest of the elif or else blocks are skipped. This allows for cleaner, more readable code when you need to test several different conditions.\n",
        "\n",
        "**Question 13.** What is the difference between for and while loops?\n",
        "\n",
        "The main difference between for and while loops in Python is how they control repetition: a for loop runs a fixed number of times by iterating over a sequence (like a list, range, or string), making it ideal when you know in advance how many times to loop. In contrast, a while loop repeats as long as a given condition remains true, which is useful when the number of iterations depends on dynamic conditions and isn’t known beforehand.\n",
        "\n",
        "**Question 14.** Describe a scenario where a while loop is more suitable than a for loop?\n",
        "\n",
        "A while loop is more suitable than a for loop in scenarios where you need to repeat an action until a certain condition changes, but you don’t know in advance how many times that will take. For example, when reading user input continuously until they type \"exit\" to quit:\n",
        "\n",
        "python\n",
        "Copy\n",
        "Edit\n",
        "command = \"\"\n",
        "while command.lower() != \"exit\":\n",
        "    command = input(\"Enter a command (type 'exit' to quit): \")\n",
        "    print(f\"You entered: {command}\")\n",
        "Here, the loop continues running until the user decides to stop, which can’t be predetermined—making a while loop the perfect choice."
      ],
      "metadata": {
        "id": "ldyQnyD5XXxu"
      }
    },
    {
      "cell_type": "markdown",
      "source": [
        "# **Practical Question**"
      ],
      "metadata": {
        "id": "8EuWb_RXat39"
      }
    },
    {
      "cell_type": "code",
      "source": [
        "#Question 1.  Write a Python program to print \"Hello, World!?\n",
        "print(\"Hello, World!\")"
      ],
      "metadata": {
        "colab": {
          "base_uri": "https://localhost:8080/"
        },
        "id": "MvzFE1RuayQK",
        "outputId": "6d3b9b09-7e48-42d1-8883-89ebb32b0a5f"
      },
      "execution_count": 2,
      "outputs": [
        {
          "output_type": "stream",
          "name": "stdout",
          "text": [
            "Hello, World!\n"
          ]
        }
      ]
    },
    {
      "cell_type": "code",
      "source": [
        "#Question 2. Write a Python program that displays your name and age?\n",
        "name = input(\"Enter your name: \")\n",
        "age = input(\"Enter your age: \")\n",
        "print(f\"Your name is {name} and your age is {age}.\")\n"
      ],
      "metadata": {
        "colab": {
          "base_uri": "https://localhost:8080/"
        },
        "id": "pYvmP_7la6zx",
        "outputId": "6ef207b2-7eb1-46a7-d8ab-18d99a883aee"
      },
      "execution_count": 3,
      "outputs": [
        {
          "output_type": "stream",
          "name": "stdout",
          "text": [
            "Enter your name: Lakshya\n",
            "Enter your age: 22\n",
            "Your name is Lakshya and your age is 22.\n"
          ]
        }
      ]
    },
    {
      "cell_type": "code",
      "source": [
        "#Question 3. Write code to print all the pre-defined keywords in Python using the keyword library?\n",
        "import keyword\n",
        "\n",
        "# Get the list of all Python keywords\n",
        "keywords = keyword.kwlist\n",
        "\n",
        "# Print the keywords\n",
        "print(\"Python Keywords:\")\n",
        "for kw in keywords:\n",
        "    print(kw)"
      ],
      "metadata": {
        "colab": {
          "base_uri": "https://localhost:8080/"
        },
        "id": "TaO4gDYNbMlv",
        "outputId": "9ef8a06d-cf22-4b94-be2c-2261a7ed6385"
      },
      "execution_count": 4,
      "outputs": [
        {
          "output_type": "stream",
          "name": "stdout",
          "text": [
            "Python Keywords:\n",
            "False\n",
            "None\n",
            "True\n",
            "and\n",
            "as\n",
            "assert\n",
            "async\n",
            "await\n",
            "break\n",
            "class\n",
            "continue\n",
            "def\n",
            "del\n",
            "elif\n",
            "else\n",
            "except\n",
            "finally\n",
            "for\n",
            "from\n",
            "global\n",
            "if\n",
            "import\n",
            "in\n",
            "is\n",
            "lambda\n",
            "nonlocal\n",
            "not\n",
            "or\n",
            "pass\n",
            "raise\n",
            "return\n",
            "try\n",
            "while\n",
            "with\n",
            "yield\n"
          ]
        }
      ]
    },
    {
      "cell_type": "code",
      "source": [
        "#Question 4. Write a program that checks if a given word is a Python keyword?\n",
        "import keyword\n",
        "\n",
        "# Get the word to check\n",
        "word = input(\"Enter a word to check if it's a Python keyword: \")\n",
        "\n",
        "# Check if the word is a Python keyword\n",
        "if keyword.iskeyword(word):\n",
        "    print(f\"'{word}' is a Python keyword.\")"
      ],
      "metadata": {
        "colab": {
          "base_uri": "https://localhost:8080/"
        },
        "id": "nBejyqkZbZse",
        "outputId": "de5ac26d-23cb-41bc-c121-24c9bdbfeb0d"
      },
      "execution_count": 5,
      "outputs": [
        {
          "output_type": "stream",
          "name": "stdout",
          "text": [
            "Enter a word to check if it's a Python keyword: True\n",
            "'True' is a Python keyword.\n"
          ]
        }
      ]
    },
    {
      "cell_type": "code",
      "source": [
        "'''Question 5. Create a list and tuple in Python, and demonstrate how attempting to change an element works differently\n",
        "for each?'''\n",
        "# Create a list\n",
        "my_list = [10, 20, 30]\n",
        "print(\"Original list:\", my_list)\n",
        "\n",
        "# Modify an element in the list\n",
        "my_list[1] = 99\n",
        "print(\"Modified list:\", my_list)\n",
        "\n",
        "# Create a tuple\n",
        "my_tuple = (10, 20, 30)\n",
        "print(\"Original tuple:\", my_tuple)\n",
        "\n",
        "# Attempt to modify an element in the tuple (this will cause an error)\n",
        "try:\n",
        "    my_tuple[1] = 99\n",
        "except TypeError as e:\n",
        "    print(\"Error when trying to modify tuple:\", e)\n"
      ],
      "metadata": {
        "colab": {
          "base_uri": "https://localhost:8080/"
        },
        "id": "kpbFiLOSbjnh",
        "outputId": "bd3aa823-42f9-4978-fc22-408de1729a0a"
      },
      "execution_count": 6,
      "outputs": [
        {
          "output_type": "stream",
          "name": "stdout",
          "text": [
            "Original list: [10, 20, 30]\n",
            "Modified list: [10, 99, 30]\n",
            "Original tuple: (10, 20, 30)\n",
            "Error when trying to modify tuple: 'tuple' object does not support item assignment\n"
          ]
        }
      ]
    },
    {
      "cell_type": "code",
      "source": [
        "#Question 6. Write a function to demonstrate the behavior of mutable and immutable arguments?\n",
        "def modify_args(mutable_arg, immutable_arg):\n",
        "    # Modify the mutable argument (e.g., list)\n",
        "    mutable_arg.append(100)\n",
        "\n",
        "    # Try to modify the immutable argument (e.g., int)\n",
        "    immutable_arg += 100\n",
        "\n",
        "    print(\"Inside function - mutable_arg:\", mutable_arg)\n",
        "    print(\"Inside function - immutable_arg:\", immutable_arg)\n",
        "\n",
        "# Example usage\n",
        "my_list = [1, 2, 3]\n",
        "my_int = 50\n",
        "\n",
        "print(\"Before function call - my_list:\", my_list)\n",
        "print(\"Before function call - my_int:\", my_int)\n",
        "\n",
        "modify_args(my_list, my_int)\n",
        "\n",
        "print(\"After function call - my_list:\", my_list)   # Changed, because list is mutable\n",
        "print(\"After function call - my_int:\", my_int)     # Unchanged, because int is immutable\n"
      ],
      "metadata": {
        "colab": {
          "base_uri": "https://localhost:8080/"
        },
        "id": "So-DQvXfb0o5",
        "outputId": "d689aeae-b2da-4ef1-8224-880a3d92d92b"
      },
      "execution_count": 7,
      "outputs": [
        {
          "output_type": "stream",
          "name": "stdout",
          "text": [
            "Before function call - my_list: [1, 2, 3]\n",
            "Before function call - my_int: 50\n",
            "Inside function - mutable_arg: [1, 2, 3, 100]\n",
            "Inside function - immutable_arg: 150\n",
            "After function call - my_list: [1, 2, 3, 100]\n",
            "After function call - my_int: 50\n"
          ]
        }
      ]
    },
    {
      "cell_type": "code",
      "source": [
        "#Question 7. Write a program that performs basic arithmetic operations on two user-input numbers?\n",
        "# Get two numbers from the user\n",
        "num1 = float(input(\"Enter the first number: \"))\n",
        "num2 = float(input(\"Enter the second number: \"))\n",
        "\n",
        "# Perform arithmetic operations\n",
        "addition = num1 + num2\n",
        "subtraction = num1 - num2\n",
        "multiplication = num1 * num2\n",
        "\n",
        "# Handle division by zero\n",
        "if num2 != 0:\n",
        "    division = num1 / num2\n",
        "else:\n",
        "    division = \"Undefined (cannot divide by zero)\"\n",
        "\n",
        "# Display the results\n",
        "print(f\"{num1} + {num2} = {addition}\")\n",
        "print(f\"{num1} - {num2} = {subtraction}\")\n",
        "print(f\"{num1} * {num2} = {multiplication}\")\n",
        "print(f\"{num1} / {num2} = {division}\")\n"
      ],
      "metadata": {
        "colab": {
          "base_uri": "https://localhost:8080/"
        },
        "id": "d-k_dJEmcKMU",
        "outputId": "35656275-1011-465e-a08d-db1022f7fe84"
      },
      "execution_count": 8,
      "outputs": [
        {
          "output_type": "stream",
          "name": "stdout",
          "text": [
            "Enter the first number: 1\n",
            "Enter the second number: 2\n",
            "1.0 + 2.0 = 3.0\n",
            "1.0 - 2.0 = -1.0\n",
            "1.0 * 2.0 = 2.0\n",
            "1.0 / 2.0 = 0.5\n"
          ]
        }
      ]
    },
    {
      "cell_type": "code",
      "source": [
        "#Question 8. Write a program to demonstrate the use of logical operators?\n",
        "\n",
        "# Sample inputs\n",
        "a = True\n",
        "b = False\n",
        "\n",
        "print(\"a =\", a)\n",
        "print(\"b =\", b)\n",
        "\n",
        "# Using and operator\n",
        "print(\"a and b:\", a and b)  # True only if both are True\n",
        "\n",
        "# Using or operator\n",
        "print(\"a or b:\", a or b)    # True if at least one is True\n",
        "\n",
        "# Using not operator\n",
        "print(\"not a:\", not a)      # Reverses the value of a\n",
        "print(\"not b:\", not b)      # Reverses the value of b\n",
        "\n",
        "# Example with conditions\n",
        "x = 10\n",
        "y = 20\n",
        "\n",
        "print(\"x > 5 and y < 30:\", (x > 5) and (y < 30))  # True and True -> True\n",
        "print(\"x > 15 or y < 30:\", (x > 15))\n"
      ],
      "metadata": {
        "colab": {
          "base_uri": "https://localhost:8080/"
        },
        "id": "YgnhduJYcnJd",
        "outputId": "f0f6ae1d-2f6e-40fd-9301-a6186b2ed7f3"
      },
      "execution_count": 10,
      "outputs": [
        {
          "output_type": "stream",
          "name": "stdout",
          "text": [
            "a = True\n",
            "b = False\n",
            "a and b: False\n",
            "a or b: True\n",
            "not a: False\n",
            "not b: True\n",
            "x > 5 and y < 30: True\n",
            "x > 15 or y < 30: False\n"
          ]
        }
      ]
    },
    {
      "cell_type": "code",
      "source": [
        "#Question 9. Write a Python program to convert user input from string to integer, float, and boolean types?\n",
        "\n",
        "# Take input as string\n",
        "user_input = input(\"Enter something: \")\n",
        "\n",
        "# Convert to integer\n",
        "try:\n",
        "    int_value = int(user_input)\n",
        "    print(\"Integer:\", int_value)\n",
        "except ValueError:\n",
        "    print(\"Cannot convert to integer.\")\n",
        "\n",
        "# Convert to float\n",
        "try:\n",
        "    float_value = float(user_input)\n",
        "    print(\"Float:\", float_value)\n",
        "except ValueError:\n",
        "    print(\"Cannot convert to float.\")\n",
        "\n",
        "# Convert to boolean\n",
        "# In Python, bool('') is False; everything else is True\n",
        "bool_value = bool(user_input)\n",
        "print(\"Boolean:\", bool_value)\n"
      ],
      "metadata": {
        "colab": {
          "base_uri": "https://localhost:8080/"
        },
        "id": "0vfvKDYucz9C",
        "outputId": "12ea26a5-f5ed-4630-826c-dfb9e630d870"
      },
      "execution_count": 11,
      "outputs": [
        {
          "output_type": "stream",
          "name": "stdout",
          "text": [
            "Enter something: andka\n",
            "Cannot convert to integer.\n",
            "Cannot convert to float.\n",
            "Boolean: True\n"
          ]
        }
      ]
    },
    {
      "cell_type": "code",
      "source": [
        "#Question 10. Write code to demonstrate type casting with list elements?\n",
        "\n",
        "# Original list with string numbers\n",
        "str_list = ['10', '20', '30', '40']\n",
        "\n",
        "# Convert each element from string to integer using list comprehension\n",
        "int_list = [int(item) for item in str_list]\n",
        "\n",
        "print(\"Original list (strings):\", str_list)\n",
        "print(\"Converted list (integers):\", int_list)\n",
        "\n",
        "# You can also cast elements to float\n",
        "float_list = [float(item) for item in str_list]\n",
        "print(\"Converted list (floats):\", float_list)\n"
      ],
      "metadata": {
        "colab": {
          "base_uri": "https://localhost:8080/"
        },
        "id": "zirveRlxdCKu",
        "outputId": "be7ec339-0cb4-4818-ffcf-ca77e757e2cf"
      },
      "execution_count": 12,
      "outputs": [
        {
          "output_type": "stream",
          "name": "stdout",
          "text": [
            "Original list (strings): ['10', '20', '30', '40']\n",
            "Converted list (integers): [10, 20, 30, 40]\n",
            "Converted list (floats): [10.0, 20.0, 30.0, 40.0]\n"
          ]
        }
      ]
    },
    {
      "cell_type": "code",
      "source": [
        "#Question 11. Write a program that checks if a number is positive, negative, or zero?\n",
        "\n",
        "# Take input from the user and convert to float\n",
        "num = float(input(\"Enter a number: \"))\n",
        "\n",
        "# Check if the number is positive, negative, or zero\n",
        "if num > 0:\n",
        "    print(\"The number is positive.\")\n",
        "elif num < 0:\n",
        "    print(\"The number is negative.\")\n",
        "else:\n",
        "    print(\"The number is zero.\")\n"
      ],
      "metadata": {
        "colab": {
          "base_uri": "https://localhost:8080/"
        },
        "id": "PCd8CsmWdPXM",
        "outputId": "d07c7bb9-ed57-48ba-e1c6-be9110ba17c2"
      },
      "execution_count": 13,
      "outputs": [
        {
          "output_type": "stream",
          "name": "stdout",
          "text": [
            "Enter a number: 57\n",
            "The number is positive.\n"
          ]
        }
      ]
    },
    {
      "cell_type": "code",
      "source": [
        "#Question 12. Write a for loop to print numbers from 1 to 10?\n",
        "\n",
        "for i in range(1,11):\n",
        "  print(i)"
      ],
      "metadata": {
        "colab": {
          "base_uri": "https://localhost:8080/"
        },
        "id": "HG3XXTDQda0S",
        "outputId": "6fd3b1d4-7eb1-4fda-94ba-9fabea7d82be"
      },
      "execution_count": 17,
      "outputs": [
        {
          "output_type": "stream",
          "name": "stdout",
          "text": [
            "1\n",
            "2\n",
            "3\n",
            "4\n",
            "5\n",
            "6\n",
            "7\n",
            "8\n",
            "9\n",
            "10\n"
          ]
        }
      ]
    },
    {
      "cell_type": "code",
      "source": [
        "#Question 13. Write a Python program to find the sum of all even numbers between 1 and 50?\n",
        "\n",
        "total = 0\n",
        "for num in range(2,51,2):\n",
        "  print(num)\n",
        "  total += num\n",
        "print(total)"
      ],
      "metadata": {
        "colab": {
          "base_uri": "https://localhost:8080/"
        },
        "id": "D7hz9467dpI-",
        "outputId": "f31273d0-588a-4aaf-81e8-136ae151772d"
      },
      "execution_count": 19,
      "outputs": [
        {
          "output_type": "stream",
          "name": "stdout",
          "text": [
            "2\n",
            "4\n",
            "6\n",
            "8\n",
            "10\n",
            "12\n",
            "14\n",
            "16\n",
            "18\n",
            "20\n",
            "22\n",
            "24\n",
            "26\n",
            "28\n",
            "30\n",
            "32\n",
            "34\n",
            "36\n",
            "38\n",
            "40\n",
            "42\n",
            "44\n",
            "46\n",
            "48\n",
            "50\n",
            "650\n"
          ]
        }
      ]
    },
    {
      "cell_type": "code",
      "source": [
        "#Question 14. Write a program to reverse a string using a while loop?\n",
        "\n",
        "# Take input from the user\n",
        "original_str = input(\"Enter a string: \")\n",
        "\n",
        "# Initialize variables\n",
        "reversed_str = \"\"\n",
        "index = len(original_str) - 1\n",
        "\n",
        "# Use while loop to reverse the string\n",
        "while index >= 0:\n",
        "    reversed_str += original_str[index]\n",
        "    index -= 1\n",
        "\n",
        "print(\"Reversed string:\", reversed_str)\n"
      ],
      "metadata": {
        "colab": {
          "base_uri": "https://localhost:8080/"
        },
        "id": "jRr0LS-JeGdI",
        "outputId": "9b8d3e08-7625-4fba-deb7-cd28822a0e17"
      },
      "execution_count": 20,
      "outputs": [
        {
          "output_type": "stream",
          "name": "stdout",
          "text": [
            "Enter a string: lakshya\n",
            "Reversed string: ayhskal\n"
          ]
        }
      ]
    },
    {
      "cell_type": "code",
      "source": [
        "#Question 15. Write a Python program to calculate the factorial of a number provided by the user using a while loop?\n",
        "\n",
        "# Take input from the user and convert to integer\n",
        "num = int(input(\"Enter a non-negative integer: \"))\n",
        "\n",
        "# Initialize factorial result and counter\n",
        "factorial = 1\n",
        "counter = num\n",
        "\n",
        "# Check for negative input\n",
        "if num < 0:\n",
        "    print(\"Factorial is not defined for negative numbers.\")\n",
        "else:\n",
        "    while counter > 1:\n",
        "        factorial *= counter\n",
        "        counter -= 1\n",
        "    print(f\"Factorial of {num} is: {factorial}\")\n"
      ],
      "metadata": {
        "colab": {
          "base_uri": "https://localhost:8080/"
        },
        "id": "OjYQHjXkepFP",
        "outputId": "fb38c4b5-655a-48ee-bd17-e5feee191666"
      },
      "execution_count": 22,
      "outputs": [
        {
          "output_type": "stream",
          "name": "stdout",
          "text": [
            "Enter a non-negative integer: 12\n",
            "Factorial of 12 is: 479001600\n"
          ]
        }
      ]
    }
  ]
}