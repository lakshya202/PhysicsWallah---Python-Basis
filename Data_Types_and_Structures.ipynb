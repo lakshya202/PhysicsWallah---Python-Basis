{
  "nbformat": 4,
  "nbformat_minor": 0,
  "metadata": {
    "colab": {
      "provenance": []
    },
    "kernelspec": {
      "name": "python3",
      "display_name": "Python 3"
    },
    "language_info": {
      "name": "python"
    }
  },
  "cells": [
    {
      "cell_type": "markdown",
      "source": [
        "# **Data Types & Structures**\n",
        "\n",
        "Question 1: What are data structures, and why are they important?\n",
        "\n",
        "Data structures in Python are ways to store and organize data efficiently so it can be accessed and modified easily. Common built-in data structures include lists, tuples, sets, and dictionaries—each serving different purposes based on how data needs to be stored and accessed. Lists are ordered and mutable, tuples are ordered and immutable, sets store unique unordered items, and dictionaries hold key-value pairs for fast lookups. These structures are crucial for writing efficient, readable, and scalable programs, as they directly impact the performance of operations like searching, sorting, and data manipulation.\n",
        "\n",
        "Question 2: Explain the difference between mutable and immutable data types with examples?\n",
        "\n",
        "In Python, mutable data types are those that can be changed after creation, such as lists, dictionaries, and sets—allowing modifications like adding, removing, or updating elements. For example, you can append to a list using my_list.append(4). In contrast, immutable data types cannot be changed once created; common examples include integers, floats, strings, and tuples. Attempting to modify them, like changing a character in a string (name[0] = 'M'), will result in an error. Understanding the difference is important for writing efficient and bug-free code, especially when dealing with functions or data sharing.\n",
        "\n",
        "Question 3: What are the main differences between lists and tuples in Python?\n",
        "\n",
        "In Python, the main difference between lists and tuples lies in **mutability**—lists are mutable, meaning their elements can be changed, added, or removed, while tuples are immutable and cannot be altered after creation. Lists use square brackets (e.g., `[1, 2, 3]`) and offer many built-in methods like `append()` and `remove()`, making them suitable for dynamic data. Tuples, on the other hand, use parentheses (e.g., `(1, 2, 3)`), are faster and more memory-efficient, and are often used to represent fixed collections of items. Additionally, tuples can be used as keys in dictionaries if they contain only immutable elements, while lists cannot.\n",
        "\n",
        "Question 4: Describe how dictionaries store data?\n",
        "\n",
        "In Python, dictionaries store data as **key-value pairs**, where each unique **key** maps to a specific **value**. Internally, dictionaries use a **hash table** to store these pairs efficiently. When a key is added, Python computes its **hash value** (a unique integer based on the key) and uses that to determine where to place the value in memory. This allows for **fast lookups, insertions, and deletions**, typically in constant time. Keys must be **immutable** (like strings, numbers, or tuples with immutable elements), while values can be of any data type. For example, `student = {\"name\": \"Alice\", \"age\": 20}` stores two values (`\"Alice\"` and `20`) associated with keys `\"name\"` and `\"age\"`.\n",
        "\n",
        "Question 5: Why might you use a set instead of a list in Python?\n",
        "\n",
        "You might use a **set** instead of a **list** in Python 3 when you need to store **unique elements** and perform **fast membership tests**. Unlike lists, sets automatically eliminate duplicates and are optimized for checking whether an item exists using hashing, making operations like `x in my_set` significantly faster than in lists, especially with large data. However, sets are **unordered** and **do not support indexing**, so they're not suitable when you need to maintain element order or access items by position. Sets are ideal for tasks like removing duplicates, comparing collections, or performing set operations like unions and intersections.\n",
        "\n",
        "Question 6: What is a string in Python, and how is it different from a list?\n",
        "\n",
        "In Python, a **string** is an **immutable sequence of characters** used to represent text, defined using quotes (e.g., `\"hello\"` or `'world'`). It behaves like a list in that you can access individual characters using indexing (e.g., `s[0]`), but unlike a list, you **cannot change** the contents of a string once it's created. A **list**, on the other hand, is a **mutable sequence** that can hold elements of any data type—including strings, numbers, or even other lists—and its elements can be modified, added, or removed. For example, `my_list = ['h', 'e', 'l', 'l', 'o']` allows changes like `my_list[0] = 'H'`, but doing the same with a string would raise an error.\n",
        "\n",
        "Question 7: How do tuples ensure data integrity in Python?\n",
        "\n",
        "In Python 3, **tuples ensure data integrity** by being **immutable**, meaning their contents cannot be changed after creation. Once a tuple is defined, elements cannot be added, removed, or modified, which protects the data from accidental changes during program execution. This immutability makes tuples especially useful for storing **fixed data**, such as coordinates, configuration settings, or as keys in dictionaries. Because of this, tuples help maintain **consistency and reliability**, ensuring that important data remains constant and secure throughout the lifecycle of the program.\n",
        "\n",
        "Question 8: What is a hash table, and how does it relate to dictionaries in Python?\n",
        "\n",
        "A **hash table** is a data structure that stores key-value pairs and allows for very fast data access using a process called **hashing**. In Python 3, **dictionaries** are implemented using hash tables. When you store a key-value pair in a dictionary, Python applies a **hash function** to the key, which converts it into a unique integer (called a **hash value**). This value determines where the associated value is stored in memory. This allows for **average constant-time performance** (O(1)) for operations like lookup, insertion, and deletion. The keys used must be **immutable and hashable** (like strings, numbers, or tuples), which ensures that their hash values remain consistent during their lifetime.\n",
        "\n",
        "Question 9: Can lists contain different data types in Python?\n",
        "\n",
        "Yes, in Python 3, lists can contain different data types. A single list can hold a mix of integers, strings, floats, booleans, other lists, or even custom objects. This flexibility is possible because Python lists are dynamic and do not enforce type constraints. For example:\n",
        "mixed_list = [1, \"hello\", 3.14, True, [5, 6]]\n",
        "\n",
        "This list contains an integer, a string, a float, a boolean, and another list. While this feature offers versatility, it's important to use it carefully to maintain code readability and avoid unexpected behavior during operations.\n",
        "\n",
        "Question 10: Explain why strings are immutable in Python?\n",
        "\n",
        "Strings are immutable in Python to ensure data integrity, performance, and security. Once a string is created, it cannot be changed—any operation that modifies a string actually creates a new string object. This immutability allows Python to safely reuse string objects (interning), which improves memory efficiency and performance, especially when the same strings are used repeatedly. It also helps prevent unexpected side effects, since a string passed to a function cannot be altered outside its scope. Additionally, being immutable makes strings hashable, allowing them to be used as keys in dictionaries and elements in sets.\n",
        "\n",
        "Question 11: What advantages do dictionaries offer over lists for certain tasks?\n",
        "\n",
        "Dictionaries in Python offer several advantages over lists for certain tasks, especially when dealing with **key-based data retrieval**. Unlike lists, which store values by position (index), dictionaries store **key-value pairs**, allowing for **faster and more meaningful data access** using unique keys. This makes dictionaries ideal for tasks like looking up data (e.g., retrieving a student’s name by ID) in **constant time (O(1))**. They also provide better structure when working with **named data**, improve **readability**, and are more efficient for **search-heavy** operations. In contrast, lists require scanning through elements, which can be slower and less intuitive for such use cases.\n",
        "\n",
        "Question 12: Describe a scenario where using a tuple would be preferable over a list?\n",
        "\n",
        "A tuple would be preferable over a list in a scenario where you need to store a **fixed set of values** that should not be changed throughout the program, ensuring **data integrity**. For example, when storing **geographic coordinates** like latitude and longitude `(28.6139, 77.2090)`, using a tuple is ideal because these values represent a constant point and should not be modified. Tuples also offer better **performance** and can be used as **keys in dictionaries** (if they contain only immutable elements), unlike lists. This makes them a reliable choice for representing unchangeable, structured data.\n",
        "\n",
        "Question 13: How do sets handle duplicate values in Python?\n",
        "\n",
        "In Python, sets automatically eliminate duplicate values. When you add elements to a set, it stores only unique items—any duplicates are ignored. This behavior is due to the underlying hash table implementation, which ensures that each value appears only once. For example:\n",
        "my_set = {1, 2, 2, 3, 3, 3}\n",
        "print(my_set)  # Output: {1, 2, 3}\n",
        "\n",
        "As shown, even though multiple duplicate values were added, the set stores only one instance of each. This makes sets especially useful for tasks like removing duplicates from a list or performing mathematical set operations.\n",
        "\n",
        "Question 14:  How does the “in” keyword work differently for lists and dictionaries?\n",
        "\n",
        "In Python, the in keyword is used to check for membership, but it behaves differently for lists and dictionaries:\n",
        "\n",
        "In Lists: in checks whether a specific value exists among the elements.\n",
        "fruits = [\"apple\", \"banana\", \"cherry\"]\n",
        "print(\"apple\" in fruits)  # True\n",
        "\n",
        "In Dictionaries: in checks whether a key exists, not a value.\n",
        "student = {\"name\": \"Alice\", \"age\": 20}\n",
        "print(\"name\" in student)     # True (checks for key)\n",
        "print(\"Alice\" in student)    # False (value, not key)\n",
        "So, in lists, in checks values, while in dictionaries, it checks keys by default.\n",
        "\n",
        "Question 15:  Can you modify the elements of a tuple? Explain why or why not?\n",
        "\n",
        "No, you cannot modify the elements of a tuple in Python because tuples are immutable. Once a tuple is created, its contents—meaning the elements inside it—cannot be changed, added to, or removed. This immutability ensures data integrity and allows tuples to be used as dictionary keys or set elements, which require objects to be hashable. For example:\n",
        "my_tuple = (1, 2, 3)\n",
        "my_tuple[0] = 10  # ❌ This will raise a TypeError\n",
        "\n",
        "However, if a tuple contains a mutable object (like a list), the object itself can be modified—but the tuple’s structure (its references) still cannot change.\n",
        "\n",
        "Question 16: What is a nested dictionary, and give an example of its use case?\n",
        "\n",
        "A nested dictionary in Python is a dictionary where the values are themselves dictionaries, allowing you to store complex, hierarchical data in a structured format. For example, in a student management system, you might have a dictionary where each student ID maps to another dictionary containing their name, age, and grade: {\"101\": {\"name\": \"Alice\", \"age\": 20, \"grade\": \"A\"}}. This is useful for organizing related data under a single key and is commonly used in applications like databases, JSON data handling, and configuration files.\n",
        "\n",
        "Question 17: Describe the time complexity of accessing elements in a dictionary?\n",
        "\n",
        "Accessing elements in a dictionary in Python has an average-case time complexity of O(1), meaning it takes constant time regardless of the dictionary’s size. This efficiency is due to the underlying hash table implementation, which uses a hash function to quickly locate the value associated with a given key. However, in rare worst-case scenarios (such as many hash collisions), the time complexity can degrade to O(n), where n is the number of elements, but Python’s implementation is optimized to keep this highly unlikely. Overall, dictionary lookups are extremely fast and efficient for most practical use cases.\n",
        "\n",
        "Question 18: In what situations are lists preferred over dictionaries?\n",
        "\n",
        "Lists are preferred over dictionaries in Python 3 when you need to store ordered collections of items without requiring key-value pairs. They are ideal when the position (index) of elements matters or when you’re working with sequential data, such as iterating over items, storing data in a specific order, or maintaining duplicates. For example, a list is well-suited for tasks like processing a series of numbers, managing a to-do list, or storing rows of data. Lists are also simpler and more memory-efficient than dictionaries when only values (not keys) are needed, making them a better choice for straightforward, linear data storage.\n",
        "\n",
        "Question 19:  Why are dictionaries considered unordered, and how does that affect data retrieval?\n",
        "\n",
        "Dictionaries were historically considered **unordered** in Python because they did not preserve the insertion order of key-value pairs (prior to Python 3.7). However, starting with **Python 3.7**, dictionaries **preserve insertion order** as an implementation detail, and from **Python 3.8 onward**, it's a guaranteed language feature. Despite this, dictionaries are still accessed by **keys**, not by position, so their design focuses on **efficient key-based lookup** rather than order. This means you can't rely on numeric indexing like with lists, and should always retrieve values using their corresponding keys. The key-based access model ensures fast, consistent data retrieval, regardless of the order in which items were added.\n",
        "\n",
        "Question 20: Explain the difference between a list and a dictionary in terms of data retrieval?\n",
        "\n",
        "The key difference between a **list** and a **dictionary** in terms of data retrieval is how items are accessed. In a **list**, data is retrieved using a **numeric index** that represents the position of the element (e.g., `my_list[0]`), making it suitable for ordered sequences. In contrast, a **dictionary** retrieves data using a **key** (e.g., `my_dict[\"name\"]`), which directly maps to a value, enabling faster and more meaningful lookups. Lists are ideal when order and position matter, while dictionaries are better when data needs to be accessed by a unique identifier or label.\n",
        "\n",
        "\n",
        "# Practical Questions\n",
        "\n",
        "\n",
        "\n",
        "\n",
        "\n",
        "\n",
        "\n"
      ],
      "metadata": {
        "id": "wx6XlnFq0k2Y"
      }
    },
    {
      "cell_type": "code",
      "source": [
        "#Question 1: Write a code to create a string with your name and print it?\n",
        "\n",
        "name = (\"Lakshya\")\n",
        "print(name)"
      ],
      "metadata": {
        "colab": {
          "base_uri": "https://localhost:8080/"
        },
        "id": "5QEuQf-46hMA",
        "outputId": "0432e229-01ca-4069-aa5e-61e908a367ee"
      },
      "execution_count": 1,
      "outputs": [
        {
          "output_type": "stream",
          "name": "stdout",
          "text": [
            "Lakshya\n"
          ]
        }
      ]
    },
    {
      "cell_type": "code",
      "source": [
        "#Question 2: Write a code to find the length of the string \"Hello World\"?\n",
        "python = (\"Hello World\")\n",
        "print(len(python))"
      ],
      "metadata": {
        "colab": {
          "base_uri": "https://localhost:8080/"
        },
        "id": "20a1p5rM6s89",
        "outputId": "b5bc401d-96fb-4c03-8c1d-d0b764c6289e"
      },
      "execution_count": 2,
      "outputs": [
        {
          "output_type": "stream",
          "name": "stdout",
          "text": [
            "11\n"
          ]
        }
      ]
    },
    {
      "cell_type": "code",
      "source": [
        "#Question 3: Write a code to slice the first 3 characters from the string \"Python Programming\"?\n",
        "\n",
        "python = (\"Python Programming\")\n",
        "print(python[0:3])"
      ],
      "metadata": {
        "colab": {
          "base_uri": "https://localhost:8080/"
        },
        "id": "stQs6s4c63JV",
        "outputId": "1e9b93aa-47ab-46e0-f1c7-e2a581e1ecf9"
      },
      "execution_count": 3,
      "outputs": [
        {
          "output_type": "stream",
          "name": "stdout",
          "text": [
            "Pyt\n"
          ]
        }
      ]
    },
    {
      "cell_type": "code",
      "source": [
        "#Question 4: Write a code to convert the string \"hello\" to uppercase?\n",
        "\n",
        "greet = (\"hell0\")\n",
        "xyz = str.upper(greet)\n",
        "print(xyz)"
      ],
      "metadata": {
        "colab": {
          "base_uri": "https://localhost:8080/"
        },
        "id": "5FExHg0F6-4b",
        "outputId": "7c3c26c4-237a-4cc2-87ae-9f5e8138e816"
      },
      "execution_count": 7,
      "outputs": [
        {
          "output_type": "stream",
          "name": "stdout",
          "text": [
            "HELL0\n"
          ]
        }
      ]
    },
    {
      "cell_type": "code",
      "source": [
        " #Question 5: Write a code to replace the word \"apple\" with \"orange\" in the string \"I like apple\"?\n",
        "\n",
        " str = (\"I like apple\")\n",
        " str.replace(\"apple\",\"orange\")\n",
        " print(str)"
      ],
      "metadata": {
        "colab": {
          "base_uri": "https://localhost:8080/"
        },
        "id": "KQu_lWuj7O2n",
        "outputId": "eddccce8-e96c-4cdb-97cb-3419b812ed17"
      },
      "execution_count": 8,
      "outputs": [
        {
          "output_type": "stream",
          "name": "stdout",
          "text": [
            "I like apple\n"
          ]
        }
      ]
    },
    {
      "cell_type": "code",
      "source": [
        "#Question 6: Write a code to create a list with numbers 1 to 5 and print it?\n",
        "\n",
        "list = [1,2,3,4,5]\n",
        "print(list)"
      ],
      "metadata": {
        "colab": {
          "base_uri": "https://localhost:8080/"
        },
        "id": "ODo7COKP8i6A",
        "outputId": "756dc7ca-c278-403f-97de-2507aad65640"
      },
      "execution_count": 9,
      "outputs": [
        {
          "output_type": "stream",
          "name": "stdout",
          "text": [
            "[1, 2, 3, 4, 5]\n"
          ]
        }
      ]
    },
    {
      "cell_type": "code",
      "source": [
        "#Question 7: Write a code to append the number 10 to the list [1, 2, 3, 4]?\n",
        "\n",
        "list = [1,2,3,4]\n",
        "list.append(10)\n",
        "print(list)"
      ],
      "metadata": {
        "colab": {
          "base_uri": "https://localhost:8080/"
        },
        "id": "Hv2IhALA8se6",
        "outputId": "8896f7ed-d5fc-4fcd-dca3-54df513f1b4f"
      },
      "execution_count": 10,
      "outputs": [
        {
          "output_type": "stream",
          "name": "stdout",
          "text": [
            "[1, 2, 3, 4, 10]\n"
          ]
        }
      ]
    },
    {
      "cell_type": "code",
      "source": [
        "#Question 8: Write a code to remove the number 3 from the list [1, 2, 3, 4, 5]?\n",
        "\n",
        "list = [1,2,3,4,5]\n",
        "list.remove(3)\n",
        "print(list)"
      ],
      "metadata": {
        "colab": {
          "base_uri": "https://localhost:8080/"
        },
        "id": "ulQA-D_u81EW",
        "outputId": "2f2eb10d-5be5-4092-ec0d-140afce3d931"
      },
      "execution_count": 11,
      "outputs": [
        {
          "output_type": "stream",
          "name": "stdout",
          "text": [
            "[1, 2, 4, 5]\n"
          ]
        }
      ]
    },
    {
      "cell_type": "code",
      "source": [
        "#Question 9: Write a code to access the second element in the list ['a', 'b', 'c', 'd']?\n",
        "\n",
        "list = ['a', 'b', 'c', 'd']\n",
        "print(list[1])"
      ],
      "metadata": {
        "colab": {
          "base_uri": "https://localhost:8080/"
        },
        "id": "mJx2LtEQ85_Y",
        "outputId": "29f59392-716d-46e8-aa3a-97b2069c5c93"
      },
      "execution_count": 12,
      "outputs": [
        {
          "output_type": "stream",
          "name": "stdout",
          "text": [
            "b\n"
          ]
        }
      ]
    },
    {
      "cell_type": "code",
      "source": [
        "#Question 10: Write a code to reverse the list [10, 20, 30, 40, 50].\n",
        "\n",
        "list = [10, 20, 30, 40, 50]\n",
        "list.reverse()\n",
        "print(list)"
      ],
      "metadata": {
        "colab": {
          "base_uri": "https://localhost:8080/"
        },
        "id": "F0s-cxp79Bo1",
        "outputId": "05501ac5-ec75-48ab-b92c-fb77cd5871e6"
      },
      "execution_count": 13,
      "outputs": [
        {
          "output_type": "stream",
          "name": "stdout",
          "text": [
            "[50, 40, 30, 20, 10]\n"
          ]
        }
      ]
    },
    {
      "cell_type": "code",
      "source": [
        "#Question 11: Write a code to create a tuple with the elements 100, 200, 300 and print it.\n",
        "\n",
        "tuple = (100,200,300)\n",
        "print(tuple)"
      ],
      "metadata": {
        "colab": {
          "base_uri": "https://localhost:8080/"
        },
        "id": "d1j31wTX9eMM",
        "outputId": "26421dd7-8ddd-43e5-d63c-3cfa17c34f9b"
      },
      "execution_count": 14,
      "outputs": [
        {
          "output_type": "stream",
          "name": "stdout",
          "text": [
            "(100, 200, 300)\n"
          ]
        }
      ]
    },
    {
      "cell_type": "code",
      "source": [
        "#Question 12: Write a code to access the second-to-last element of the tuple ('red', 'green', 'blue', 'yellow').\n",
        "\n",
        "tuple = ('red', 'green', 'blue', 'yellow')\n",
        "print(tuple[-2])\n"
      ],
      "metadata": {
        "colab": {
          "base_uri": "https://localhost:8080/"
        },
        "id": "n8EZbLWN9oz-",
        "outputId": "cb92271f-4e17-4c6f-c96d-a39f72d0abf7"
      },
      "execution_count": 15,
      "outputs": [
        {
          "output_type": "stream",
          "name": "stdout",
          "text": [
            "blue\n"
          ]
        }
      ]
    },
    {
      "cell_type": "code",
      "source": [
        "#Question 13: Write a code to find the minimum number in the tuple (10, 20, 5, 15).\n",
        "\n",
        "tuple = (10, 20, 5, 15)\n",
        "print(min(tuple))"
      ],
      "metadata": {
        "colab": {
          "base_uri": "https://localhost:8080/"
        },
        "id": "faWZk3Uy956A",
        "outputId": "f2a6ad26-4399-4001-b5c8-b6aee71cd18a"
      },
      "execution_count": 16,
      "outputs": [
        {
          "output_type": "stream",
          "name": "stdout",
          "text": [
            "5\n"
          ]
        }
      ]
    },
    {
      "cell_type": "code",
      "source": [
        "#Question 14: Write a code to find the index of the element \"cat\" in the tuple ('dog', 'cat', 'rabbit').\n",
        "\n",
        "tuple = ('dog', 'cat', 'rabbit')\n",
        "print(tuple.index('cat'))"
      ],
      "metadata": {
        "colab": {
          "base_uri": "https://localhost:8080/"
        },
        "id": "EQa5jmt4-JSe",
        "outputId": "209c21a2-e71f-4402-985a-d82e3d3761b9"
      },
      "execution_count": 17,
      "outputs": [
        {
          "output_type": "stream",
          "name": "stdout",
          "text": [
            "1\n"
          ]
        }
      ]
    },
    {
      "cell_type": "code",
      "source": [
        "#Question 15: Write a code to create a tuple containing three different fruits and check if \"kiwi\" is in it.\n",
        "\n",
        "tuple = ('apple', 'banana', 'kiwi')\n",
        "print('kiwi' in tuple)"
      ],
      "metadata": {
        "colab": {
          "base_uri": "https://localhost:8080/"
        },
        "id": "fqlh5Nv4-ZvL",
        "outputId": "3b759c5b-6682-4aa6-b60d-03eb1f57e879"
      },
      "execution_count": 18,
      "outputs": [
        {
          "output_type": "stream",
          "name": "stdout",
          "text": [
            "True\n"
          ]
        }
      ]
    },
    {
      "cell_type": "code",
      "source": [
        "#Question 16: Write a code to create a set with the elements 'a', 'b', 'c' and print it.\n",
        "\n",
        "set = {'a', 'b', 'c'}\n",
        "print(set)"
      ],
      "metadata": {
        "colab": {
          "base_uri": "https://localhost:8080/"
        },
        "id": "tE7GdFrG-reg",
        "outputId": "2dacfd6e-f3e1-4c9a-b1ca-63b99f949528"
      },
      "execution_count": 20,
      "outputs": [
        {
          "output_type": "stream",
          "name": "stdout",
          "text": [
            "{'b', 'a', 'c'}\n"
          ]
        }
      ]
    },
    {
      "cell_type": "code",
      "source": [
        "#Question 17: Write a code to clear all elements from the set {1, 2, 3, 4, 5}.\n",
        "\n",
        "set = {1, 2, 3, 4, 5}\n",
        "set.clear()\n",
        "print(set)"
      ],
      "metadata": {
        "colab": {
          "base_uri": "https://localhost:8080/"
        },
        "id": "9fwgruFD_GAG",
        "outputId": "97dfe881-adf6-4443-c7b7-056c153cb90e"
      },
      "execution_count": 21,
      "outputs": [
        {
          "output_type": "stream",
          "name": "stdout",
          "text": [
            "set()\n"
          ]
        }
      ]
    },
    {
      "cell_type": "code",
      "source": [
        "#Question 18: Write a code to remove the element 4 from the set {1, 2, 3, 4}.\n",
        "\n",
        "set = {1, 2, 3, 4}\n",
        "set.remove(4)\n",
        "print(set)"
      ],
      "metadata": {
        "colab": {
          "base_uri": "https://localhost:8080/"
        },
        "id": "YDtuEpuK_Uih",
        "outputId": "76f0a7d3-37af-40ff-83e6-02b29f39a687"
      },
      "execution_count": 22,
      "outputs": [
        {
          "output_type": "stream",
          "name": "stdout",
          "text": [
            "{1, 2, 3}\n"
          ]
        }
      ]
    },
    {
      "cell_type": "code",
      "source": [
        "#Question 19: Write a code to find the union of two sets {1, 2, 3} and {3, 4, 5}.\n",
        "\n",
        "set1 = {1, 2, 3}\n",
        "set2 = {3, 4, 5}\n",
        "print(set1.union(set2))"
      ],
      "metadata": {
        "colab": {
          "base_uri": "https://localhost:8080/"
        },
        "id": "-TyOuhJd_gna",
        "outputId": "b98fd042-3153-44cc-b6ae-27e3b83b69b7"
      },
      "execution_count": 23,
      "outputs": [
        {
          "output_type": "stream",
          "name": "stdout",
          "text": [
            "{1, 2, 3, 4, 5}\n"
          ]
        }
      ]
    },
    {
      "cell_type": "code",
      "source": [
        "#Question 20: Write a code to find the intersection of two sets {1, 2, 3} and {2, 3, 4}.\n",
        "\n",
        "set1 = {1, 2, 3}\n",
        "set2 = {2, 3, 4}\n",
        "print(set1.intersection(set2))"
      ],
      "metadata": {
        "colab": {
          "base_uri": "https://localhost:8080/"
        },
        "id": "fL50_Rvb_tb5",
        "outputId": "45bcb2b3-f3d3-4eaf-b3e1-d4385e46ad4a"
      },
      "execution_count": 24,
      "outputs": [
        {
          "output_type": "stream",
          "name": "stdout",
          "text": [
            "{2, 3}\n"
          ]
        }
      ]
    },
    {
      "cell_type": "code",
      "source": [
        "#Question 21: Write a code to create a dictionary with the keys \"name\", \"age\", and \"city\", and print it\n",
        "\n",
        "dict = {\"name\": \"Lakshya\", \"age\": 20, \"city\": \"Delhi\"}\n",
        "print(dict)"
      ],
      "metadata": {
        "colab": {
          "base_uri": "https://localhost:8080/"
        },
        "id": "GtQXamMUAA5t",
        "outputId": "2d4bd694-07a8-4818-cb14-e5f35929a7f3"
      },
      "execution_count": 25,
      "outputs": [
        {
          "output_type": "stream",
          "name": "stdout",
          "text": [
            "{'name': 'Lakshya', 'age': 20, 'city': 'Delhi'}\n"
          ]
        }
      ]
    },
    {
      "cell_type": "code",
      "source": [
        "#Question 22: Write a code to add a new key-value pair \"country\": \"USA\" to the dictionary {'name': 'John', 'age': 25}.\n",
        "\n",
        "dict = {'name': 'John', 'age': 25}\n",
        "dict['country'] = 'USA'\n",
        "print(dict)\n",
        "#"
      ],
      "metadata": {
        "colab": {
          "base_uri": "https://localhost:8080/"
        },
        "id": "IlLcENYGAJqG",
        "outputId": "207bd370-4574-4666-d001-5d0231d9d204"
      },
      "execution_count": 26,
      "outputs": [
        {
          "output_type": "stream",
          "name": "stdout",
          "text": [
            "{'name': 'John', 'age': 25, 'country': 'USA'}\n"
          ]
        }
      ]
    },
    {
      "cell_type": "code",
      "source": [
        "#Question 23: Write a code to access the value associated with the key \"name\" in the dictionary {'name': 'Alice', 'age': 30}.\n",
        "\n",
        "person = {'name': 'Alice', 'age': 30}\n",
        "name_value = person['name']\n",
        "print(name_value)\n"
      ],
      "metadata": {
        "colab": {
          "base_uri": "https://localhost:8080/"
        },
        "id": "F4owIBGFAdeL",
        "outputId": "0428abf1-7403-427c-eb11-ed8cb18fbd56"
      },
      "execution_count": 3,
      "outputs": [
        {
          "output_type": "stream",
          "name": "stdout",
          "text": [
            "Alice\n"
          ]
        }
      ]
    },
    {
      "cell_type": "code",
      "source": [
        "#Question 24: Write a code to remove the key \"age\" from the dictionary {'name': 'Bob', 'age': 22, 'city': 'New York'}.\n",
        "\n",
        "person = {'name': 'Bob', 'age': 22, 'city': 'New York'}\n",
        "del person['age']\n",
        "print(person)"
      ],
      "metadata": {
        "colab": {
          "base_uri": "https://localhost:8080/"
        },
        "id": "zgF368WU9MRu",
        "outputId": "7c0191a0-10ee-458a-f29b-b018091c280a"
      },
      "execution_count": 4,
      "outputs": [
        {
          "output_type": "stream",
          "name": "stdout",
          "text": [
            "{'name': 'Bob', 'city': 'New York'}\n"
          ]
        }
      ]
    },
    {
      "cell_type": "code",
      "source": [
        "#Question 25: Write a code to check if the key \"city\" exists in the dictionary {'name': 'Alice', 'city': 'Paris'}.\n",
        "\n",
        "person = {'name': 'Alice', 'city': 'Paris'}\n",
        "print('city' in person)\n"
      ],
      "metadata": {
        "colab": {
          "base_uri": "https://localhost:8080/"
        },
        "id": "xkVETzuVKbX0",
        "outputId": "7f02e801-bb65-4b9c-df22-d47feaf0c86c"
      },
      "execution_count": 5,
      "outputs": [
        {
          "output_type": "stream",
          "name": "stdout",
          "text": [
            "True\n"
          ]
        }
      ]
    },
    {
      "cell_type": "code",
      "source": [
        "#Question 26: Write a code to create a list, a tuple, and a dictionary, and print them all.\n",
        "\n",
        "list = [1, 2, 3]\n",
        "tuple = (4, 5, 6)\n",
        "dictionary = {'a': 1, 'b': 2, 'c': 3}\n",
        "print(list)\n",
        "print(tuple)\n",
        "print(dictionary)"
      ],
      "metadata": {
        "colab": {
          "base_uri": "https://localhost:8080/"
        },
        "id": "LArjsojVKjQ1",
        "outputId": "1008d97f-016c-4be1-fa5e-261ae0e3d95e"
      },
      "execution_count": 6,
      "outputs": [
        {
          "output_type": "stream",
          "name": "stdout",
          "text": [
            "[1, 2, 3]\n",
            "(4, 5, 6)\n",
            "{'a': 1, 'b': 2, 'c': 3}\n"
          ]
        }
      ]
    },
    {
      "cell_type": "code",
      "source": [
        "#Question 27: Write a code to create a list of 5 random numbers between 1 and 100, sort it in ascending order, and print the\n",
        "#result.\n",
        "\n",
        "import random\n",
        "\n",
        "random_numbers = [random.randint(1, 100) for i in range(5)]\n",
        "random_numbers.sort()\n",
        "print(random_numbers)"
      ],
      "metadata": {
        "colab": {
          "base_uri": "https://localhost:8080/"
        },
        "id": "-vbigqUBKs8h",
        "outputId": "905cf74b-b5fa-4d4a-b828-c51e304a0950"
      },
      "execution_count": 7,
      "outputs": [
        {
          "output_type": "stream",
          "name": "stdout",
          "text": [
            "[37, 41, 42, 51, 87]\n"
          ]
        }
      ]
    },
    {
      "cell_type": "code",
      "source": [
        "#Question 28: Write a code to create a list with strings and print the element at the third index\n",
        "\n",
        "list = ['apple', 'banana', 'cherry']\n",
        "print(list[2])"
      ],
      "metadata": {
        "colab": {
          "base_uri": "https://localhost:8080/"
        },
        "id": "YXsqfBMGLAbm",
        "outputId": "e60769b8-1f9b-44d6-c405-c67e49d6fb6a"
      },
      "execution_count": 8,
      "outputs": [
        {
          "output_type": "stream",
          "name": "stdout",
          "text": [
            "cherry\n"
          ]
        }
      ]
    },
    {
      "cell_type": "code",
      "source": [
        "#Question 29:  Write a code to combine two dictionaries into one and print the result.\n",
        "\n",
        "dict1 = {'a': 1, 'b': 2}\n",
        "dict2 = {'c': 3, 'd': 4}\n",
        "combined_dict = {**dict1, **dict2}\n",
        "print(combined_dict)"
      ],
      "metadata": {
        "colab": {
          "base_uri": "https://localhost:8080/"
        },
        "id": "sZnRhclnLJTv",
        "outputId": "2f3cc643-5040-4dac-ab38-f3b4663031fc"
      },
      "execution_count": 9,
      "outputs": [
        {
          "output_type": "stream",
          "name": "stdout",
          "text": [
            "{'a': 1, 'b': 2, 'c': 3, 'd': 4}\n"
          ]
        }
      ]
    },
    {
      "cell_type": "code",
      "source": [
        "#Question 30: Write a code to convert a list of strings into a set.\n",
        "\n",
        "list = ['apple', 'banana', 'cherry']\n",
        "set = set(list)\n",
        "print(set)\n",
        "#"
      ],
      "metadata": {
        "colab": {
          "base_uri": "https://localhost:8080/"
        },
        "id": "JaJDONLCLXgR",
        "outputId": "6959c2da-0625-407a-8d11-15310714ccc7"
      },
      "execution_count": 10,
      "outputs": [
        {
          "output_type": "stream",
          "name": "stdout",
          "text": [
            "{'banana', 'apple', 'cherry'}\n"
          ]
        }
      ]
    },
    {
      "cell_type": "code",
      "source": [],
      "metadata": {
        "id": "0Up3HT2nLfMb"
      },
      "execution_count": null,
      "outputs": []
    }
  ]
}